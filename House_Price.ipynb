{
 "cells": [
  {
   "cell_type": "code",
   "execution_count": 1,
   "id": "f7908bf2-5d70-4de3-ab4d-c493b95337d9",
   "metadata": {},
   "outputs": [],
   "source": [
    "import pandas as pd \n",
    "import numpy as np\n",
    "import warnings"
   ]
  },
  {
   "cell_type": "code",
   "execution_count": 2,
   "id": "87ac200d-628b-4c82-9f8f-712c97cb5f98",
   "metadata": {},
   "outputs": [],
   "source": [
    "warnings.filterwarnings(\"ignore\")"
   ]
  },
  {
   "cell_type": "code",
   "execution_count": 3,
   "id": "6ab50de7-fd23-47bd-abb3-b26c7fc1bb1f",
   "metadata": {},
   "outputs": [],
   "source": [
    "dataset = pd.read_csv(\"house_prices.csv\")"
   ]
  },
  {
   "cell_type": "code",
   "execution_count": 4,
   "id": "4f532bc3-1626-408c-8d75-2693fc0597d2",
   "metadata": {},
   "outputs": [
    {
     "data": {
      "text/plain": [
       "(187531, 15)"
      ]
     },
     "execution_count": 4,
     "metadata": {},
     "output_type": "execute_result"
    }
   ],
   "source": [
    "dataset.shape"
   ]
  },
  {
   "cell_type": "code",
   "execution_count": 5,
   "id": "e380a3ca-70d3-447c-aa4b-11225ed7670a",
   "metadata": {},
   "outputs": [
    {
     "data": {
      "text/html": [
       "<div>\n",
       "<style scoped>\n",
       "    .dataframe tbody tr th:only-of-type {\n",
       "        vertical-align: middle;\n",
       "    }\n",
       "\n",
       "    .dataframe tbody tr th {\n",
       "        vertical-align: top;\n",
       "    }\n",
       "\n",
       "    .dataframe thead th {\n",
       "        text-align: right;\n",
       "    }\n",
       "</style>\n",
       "<table border=\"1\" class=\"dataframe\">\n",
       "  <thead>\n",
       "    <tr style=\"text-align: right;\">\n",
       "      <th></th>\n",
       "      <th>Title</th>\n",
       "      <th>Amount(in rupees)</th>\n",
       "      <th>Price (in rupees)</th>\n",
       "      <th>location</th>\n",
       "      <th>Carpet Area</th>\n",
       "      <th>Floor</th>\n",
       "      <th>Transaction</th>\n",
       "      <th>Furnishing</th>\n",
       "      <th>facing</th>\n",
       "      <th>overlooking</th>\n",
       "      <th>Bathroom</th>\n",
       "      <th>Balcony</th>\n",
       "      <th>Car Parking</th>\n",
       "      <th>Ownership</th>\n",
       "      <th>Super Area</th>\n",
       "    </tr>\n",
       "  </thead>\n",
       "  <tbody>\n",
       "    <tr>\n",
       "      <th>0</th>\n",
       "      <td>1 BHK Ready to Occupy Flat for sale in Srushti...</td>\n",
       "      <td>42 Lac</td>\n",
       "      <td>6000.0</td>\n",
       "      <td>thane</td>\n",
       "      <td>500 sqft</td>\n",
       "      <td>10 out of 11</td>\n",
       "      <td>Resale</td>\n",
       "      <td>Unfurnished</td>\n",
       "      <td>NaN</td>\n",
       "      <td>NaN</td>\n",
       "      <td>1</td>\n",
       "      <td>2</td>\n",
       "      <td>NaN</td>\n",
       "      <td>NaN</td>\n",
       "      <td>NaN</td>\n",
       "    </tr>\n",
       "  </tbody>\n",
       "</table>\n",
       "</div>"
      ],
      "text/plain": [
       "                                               Title Amount(in rupees)  \\\n",
       "0  1 BHK Ready to Occupy Flat for sale in Srushti...           42 Lac    \n",
       "\n",
       "   Price (in rupees) location Carpet Area         Floor Transaction  \\\n",
       "0             6000.0    thane    500 sqft  10 out of 11      Resale   \n",
       "\n",
       "    Furnishing facing overlooking Bathroom Balcony Car Parking Ownership  \\\n",
       "0  Unfurnished    NaN         NaN        1       2         NaN       NaN   \n",
       "\n",
       "  Super Area  \n",
       "0        NaN  "
      ]
     },
     "execution_count": 5,
     "metadata": {},
     "output_type": "execute_result"
    }
   ],
   "source": [
    "dataset.head(1)"
   ]
  },
  {
   "cell_type": "code",
   "execution_count": 6,
   "id": "3d374121-0159-45b6-aab5-83ff0b5b8334",
   "metadata": {},
   "outputs": [],
   "source": [
    "dataset1 = dataset[dataset['Amount(in rupees)']==\"Call for Price\"]\n",
    "dataset2 = dataset[dataset['Amount(in rupees)']!=\"Call for Price\"]"
   ]
  },
  {
   "cell_type": "code",
   "execution_count": 7,
   "id": "623b1695-ba7c-4b80-8a7b-d005e8dd3d12",
   "metadata": {},
   "outputs": [],
   "source": [
    "def cr_to_lac(data):\n",
    "    p = data.split(\" \")\n",
    "    if \"Lac\" in p[1]:\n",
    "        return float(p[0])\n",
    "    elif \"Cr\" in p[1]:\n",
    "        return float(p[0])*100"
   ]
  },
  {
   "cell_type": "code",
   "execution_count": 8,
   "id": "5caa7c42-87eb-446f-8d8d-2f0457e20851",
   "metadata": {},
   "outputs": [],
   "source": [
    "dataset2[\"Amount(in rupees Lakhs )\"] = dataset2['Amount(in rupees)'].apply(cr_to_lac)\n",
    "dataset2.drop(columns=[\"Amount(in rupees)\"],inplace=True)"
   ]
  },
  {
   "cell_type": "code",
   "execution_count": 9,
   "id": "448ea2ef-d9e2-4a35-a030-d36c041035f8",
   "metadata": {},
   "outputs": [],
   "source": [
    "for i in dataset1['location'].unique() :\n",
    "    mean = dataset2[dataset2['location']==i]['Amount(in rupees Lakhs )'].mean()\n",
    "    inx  = dataset1[dataset1['location']==i].index\n",
    "    dataset1.loc[inx,[\"Amount(in rupees)\"]] = mean"
   ]
  },
  {
   "cell_type": "code",
   "execution_count": 10,
   "id": "966d36c5-658c-4fd9-a64e-7f1ce55dca73",
   "metadata": {},
   "outputs": [],
   "source": [
    "dataset1[\"Amount(in rupees Lakhs )\"] = dataset1['Amount(in rupees)']\n",
    "dataset1.drop(columns=['Amount(in rupees)'],inplace=True)"
   ]
  },
  {
   "cell_type": "code",
   "execution_count": 11,
   "id": "c26b2fff-a3b5-498e-b36d-92e4b33d25aa",
   "metadata": {},
   "outputs": [],
   "source": [
    "dataset = pd.concat((dataset1,dataset2),axis=0)"
   ]
  },
  {
   "cell_type": "code",
   "execution_count": 12,
   "id": "f201b024-5c5b-43b6-ab2d-439bf10c513d",
   "metadata": {},
   "outputs": [
    {
     "name": "stdout",
     "output_type": "stream",
     "text": [
      "<class 'pandas.core.frame.DataFrame'>\n",
      "Index: 187531 entries, 24 to 187530\n",
      "Data columns (total 15 columns):\n",
      " #   Column                    Non-Null Count   Dtype  \n",
      "---  ------                    --------------   -----  \n",
      " 0   Title                     187531 non-null  object \n",
      " 1   Price (in rupees)         169866 non-null  float64\n",
      " 2   location                  187531 non-null  object \n",
      " 3   Carpet Area               106858 non-null  object \n",
      " 4   Floor                     180454 non-null  object \n",
      " 5   Transaction               187448 non-null  object \n",
      " 6   Furnishing                184634 non-null  object \n",
      " 7   facing                    117298 non-null  object \n",
      " 8   overlooking               106095 non-null  object \n",
      " 9   Bathroom                  186703 non-null  object \n",
      " 10  Balcony                   138596 non-null  object \n",
      " 11  Car Parking               84174 non-null   object \n",
      " 12  Ownership                 122014 non-null  object \n",
      " 13  Super Area                79846 non-null   object \n",
      " 14  Amount(in rupees Lakhs )  187531 non-null  object \n",
      "dtypes: float64(1), object(14)\n",
      "memory usage: 22.9+ MB\n"
     ]
    }
   ],
   "source": [
    "dataset.info()"
   ]
  },
  {
   "cell_type": "code",
   "execution_count": 13,
   "id": "73983d71-2e78-45d3-9671-4672a44ee912",
   "metadata": {},
   "outputs": [],
   "source": [
    "dataset['Amount(in rupees Lakhs )'] = dataset['Amount(in rupees Lakhs )'].astype(\"float64\")"
   ]
  },
  {
   "cell_type": "code",
   "execution_count": 14,
   "id": "96d965fc-d1f7-4ef0-a008-0cd18bb205e8",
   "metadata": {},
   "outputs": [],
   "source": [
    "def house_type(data):\n",
    "    data = data.split(\" \")\n",
    "    return data[0]+\" \"+data[1]"
   ]
  },
  {
   "cell_type": "code",
   "execution_count": 15,
   "id": "4c50e83e-61d5-4ae8-a1be-4712a3afb291",
   "metadata": {},
   "outputs": [],
   "source": [
    "dataset['House Type'] = dataset['Title'].apply(house_type)"
   ]
  },
  {
   "cell_type": "code",
   "execution_count": 16,
   "id": "986e2106-107a-4db3-be66-725ce800e7bd",
   "metadata": {},
   "outputs": [
    {
     "data": {
      "text/html": [
       "<div>\n",
       "<style scoped>\n",
       "    .dataframe tbody tr th:only-of-type {\n",
       "        vertical-align: middle;\n",
       "    }\n",
       "\n",
       "    .dataframe tbody tr th {\n",
       "        vertical-align: top;\n",
       "    }\n",
       "\n",
       "    .dataframe thead th {\n",
       "        text-align: right;\n",
       "    }\n",
       "</style>\n",
       "<table border=\"1\" class=\"dataframe\">\n",
       "  <thead>\n",
       "    <tr style=\"text-align: right;\">\n",
       "      <th></th>\n",
       "      <th>Title</th>\n",
       "      <th>Price (in rupees)</th>\n",
       "      <th>location</th>\n",
       "      <th>Carpet Area</th>\n",
       "      <th>Floor</th>\n",
       "      <th>Transaction</th>\n",
       "      <th>Furnishing</th>\n",
       "      <th>facing</th>\n",
       "      <th>overlooking</th>\n",
       "      <th>Bathroom</th>\n",
       "      <th>Balcony</th>\n",
       "      <th>Car Parking</th>\n",
       "      <th>Ownership</th>\n",
       "      <th>Super Area</th>\n",
       "      <th>Amount(in rupees Lakhs )</th>\n",
       "      <th>House Type</th>\n",
       "    </tr>\n",
       "  </thead>\n",
       "  <tbody>\n",
       "    <tr>\n",
       "      <th>24</th>\n",
       "      <td>1 BHK Ready to Occupy Flat for sale Mumbra</td>\n",
       "      <td>NaN</td>\n",
       "      <td>thane</td>\n",
       "      <td>NaN</td>\n",
       "      <td>6 out of 7</td>\n",
       "      <td>Resale</td>\n",
       "      <td>Unfurnished</td>\n",
       "      <td>NaN</td>\n",
       "      <td>NaN</td>\n",
       "      <td>1</td>\n",
       "      <td>NaN</td>\n",
       "      <td>NaN</td>\n",
       "      <td>NaN</td>\n",
       "      <td>525 sqft</td>\n",
       "      <td>97.124933</td>\n",
       "      <td>1 BHK</td>\n",
       "    </tr>\n",
       "    <tr>\n",
       "      <th>37</th>\n",
       "      <td>1 BHK Ready to Occupy Flat for sale Kalyan East</td>\n",
       "      <td>NaN</td>\n",
       "      <td>thane</td>\n",
       "      <td>NaN</td>\n",
       "      <td>2 out of 4</td>\n",
       "      <td>Resale</td>\n",
       "      <td>Unfurnished</td>\n",
       "      <td>NaN</td>\n",
       "      <td>NaN</td>\n",
       "      <td>1</td>\n",
       "      <td>NaN</td>\n",
       "      <td>NaN</td>\n",
       "      <td>NaN</td>\n",
       "      <td>550 sqft</td>\n",
       "      <td>97.124933</td>\n",
       "      <td>1 BHK</td>\n",
       "    </tr>\n",
       "  </tbody>\n",
       "</table>\n",
       "</div>"
      ],
      "text/plain": [
       "                                              Title  Price (in rupees)  \\\n",
       "24       1 BHK Ready to Occupy Flat for sale Mumbra                NaN   \n",
       "37  1 BHK Ready to Occupy Flat for sale Kalyan East                NaN   \n",
       "\n",
       "   location Carpet Area       Floor Transaction   Furnishing facing  \\\n",
       "24    thane         NaN  6 out of 7      Resale  Unfurnished    NaN   \n",
       "37    thane         NaN  2 out of 4      Resale  Unfurnished    NaN   \n",
       "\n",
       "   overlooking Bathroom Balcony Car Parking Ownership Super Area  \\\n",
       "24         NaN        1     NaN         NaN       NaN   525 sqft   \n",
       "37         NaN        1     NaN         NaN       NaN   550 sqft   \n",
       "\n",
       "    Amount(in rupees Lakhs ) House Type  \n",
       "24                 97.124933      1 BHK  \n",
       "37                 97.124933      1 BHK  "
      ]
     },
     "execution_count": 16,
     "metadata": {},
     "output_type": "execute_result"
    }
   ],
   "source": [
    "dataset.head(2)"
   ]
  },
  {
   "cell_type": "code",
   "execution_count": 17,
   "id": "da0215eb-29b6-4a52-9cb3-f9f42342872d",
   "metadata": {},
   "outputs": [
    {
     "data": {
      "text/plain": [
       "array([   nan,  6000., 13799., ...,  2873.,  2663.,  2508.],\n",
       "      shape=(10959,))"
      ]
     },
     "execution_count": 17,
     "metadata": {},
     "output_type": "execute_result"
    }
   ],
   "source": [
    "dataset['Price (in rupees)'].unique()"
   ]
  },
  {
   "cell_type": "code",
   "execution_count": 18,
   "id": "ec9d6f6c-0010-4141-83d1-50d127842332",
   "metadata": {},
   "outputs": [],
   "source": [
    "dataset['Price (in rupees)'].fillna(dataset['Price (in rupees)'].mean(),inplace=True)"
   ]
  },
  {
   "cell_type": "code",
   "execution_count": 19,
   "id": "3571e624-6703-4193-ab3f-bf42227c61bb",
   "metadata": {},
   "outputs": [
    {
     "data": {
      "text/plain": [
       "array([nan, '550 sqft', '758 sqft', ..., '1634 sqft', '164 sqyrd',\n",
       "       '136 sqft'], shape=(2759,), dtype=object)"
      ]
     },
     "execution_count": 19,
     "metadata": {},
     "output_type": "execute_result"
    }
   ],
   "source": [
    "dataset['Carpet Area'].unique()"
   ]
  },
  {
   "cell_type": "code",
   "execution_count": 20,
   "id": "9b1c0e8a-9b9b-4d8e-b099-cc1e19fa7fd9",
   "metadata": {},
   "outputs": [],
   "source": [
    "# kanal , sqft , , marla , sqm , sqyrd  = sqft\n",
    "# 1 kanal = 5445 sqft\n",
    "# 1 marla  = 272.251 sqft\n",
    "# 1 sqm = 10.7639 sqft\n",
    "# 1 sqyrd = 9 sqft"
   ]
  },
  {
   "cell_type": "code",
   "execution_count": 21,
   "id": "55f71e95-bc52-49b5-91a4-89d1d6b9b52f",
   "metadata": {},
   "outputs": [],
   "source": [
    "def unit_change(data):\n",
    "    t = type(data)\n",
    "    if t == float :\n",
    "        return data\n",
    "    else :\n",
    "        d = data.split(\" \")\n",
    "        if \"kanal\" in d[1]:\n",
    "            return float(d[0])* 5445\n",
    "        elif \"marla\" in d[1]:\n",
    "            return float(d[0])*272.251\n",
    "        elif \"sqm\" in d[1]:\n",
    "            return float(d[0])*10.7639\n",
    "        elif \"sqyrd\" in d[1]:\n",
    "            return float(d[0])*9\n",
    "        else :\n",
    "            return float(d[0])"
   ]
  },
  {
   "cell_type": "code",
   "execution_count": 22,
   "id": "304c0664-c88b-4ece-aade-4c61fa32b419",
   "metadata": {},
   "outputs": [],
   "source": [
    "dataset['Carpet Area'] = dataset['Carpet Area'].apply(unit_change)"
   ]
  },
  {
   "cell_type": "code",
   "execution_count": 23,
   "id": "09ee29c5-f8ca-44f0-b47a-878b72f4dd32",
   "metadata": {},
   "outputs": [],
   "source": [
    "dataset['Super Area'] = dataset['Super Area'].str.replace(\",\",\"\")\n",
    "dataset['Super Area'] = dataset['Super Area'].apply(unit_change)"
   ]
  },
  {
   "cell_type": "code",
   "execution_count": 24,
   "id": "82eb1297-a5f5-4888-88d0-f22d2a8189b7",
   "metadata": {},
   "outputs": [],
   "source": [
    "dataset = dataset.sort_index(axis=0)"
   ]
  },
  {
   "cell_type": "code",
   "execution_count": 25,
   "id": "3e90bb8e-ff6d-4eeb-a04a-24c1cf03002d",
   "metadata": {},
   "outputs": [],
   "source": [
    "dataset['Super Area'].fillna(0.0,inplace=True)"
   ]
  },
  {
   "cell_type": "code",
   "execution_count": 26,
   "id": "592895eb-d321-407e-b611-03b7735699a8",
   "metadata": {},
   "outputs": [],
   "source": [
    "dataset[\"Area\"] = dataset['Carpet Area'] + dataset['Super Area']"
   ]
  },
  {
   "cell_type": "code",
   "execution_count": 27,
   "id": "b6b0448a-0e59-49c0-9bb6-aa11a472d1ea",
   "metadata": {},
   "outputs": [],
   "source": [
    "dataset['Area'].fillna(0.0,inplace=True)"
   ]
  },
  {
   "cell_type": "code",
   "execution_count": 28,
   "id": "88273221-5113-4d4d-a6c6-591a3002fc8c",
   "metadata": {},
   "outputs": [],
   "source": [
    "for i in dataset['House Type'].unique():\n",
    "    ma = dataset[(dataset['House Type']==i)&(dataset['Area']!=0.0)]['Area'].mean()\n",
    "    inx = dataset[(dataset['House Type']==i)&(dataset['Area']==0.0)].index\n",
    "    dataset.loc[inx,['Area']] = ma"
   ]
  },
  {
   "cell_type": "code",
   "execution_count": 29,
   "id": "318980dc-9df6-4ffe-9c33-a69bfbdf3428",
   "metadata": {},
   "outputs": [
    {
     "data": {
      "text/plain": [
       "Title                            0\n",
       "Price (in rupees)                0\n",
       "location                         0\n",
       "Carpet Area                  80673\n",
       "Floor                         7077\n",
       "Transaction                     83\n",
       "Furnishing                    2897\n",
       "facing                       70233\n",
       "overlooking                  81436\n",
       "Bathroom                       828\n",
       "Balcony                      48935\n",
       "Car Parking                 103357\n",
       "Ownership                    65517\n",
       "Super Area                       0\n",
       "Amount(in rupees Lakhs )         0\n",
       "House Type                       0\n",
       "Area                             7\n",
       "dtype: int64"
      ]
     },
     "execution_count": 29,
     "metadata": {},
     "output_type": "execute_result"
    }
   ],
   "source": [
    "dataset.isnull().sum()"
   ]
  },
  {
   "cell_type": "code",
   "execution_count": 30,
   "id": "736d9de1-ac70-4629-b9d4-63d415860f03",
   "metadata": {},
   "outputs": [],
   "source": [
    "dataset.drop(columns=['Carpet Area',\"Super Area\"],inplace=True)"
   ]
  },
  {
   "cell_type": "code",
   "execution_count": 31,
   "id": "9b1a5917-0c77-4209-8e7f-051d06a1149c",
   "metadata": {},
   "outputs": [
    {
     "data": {
      "text/plain": [
       "array([nan, 'Freehold', 'Co-operative Society', 'Power Of Attorney',\n",
       "       'Leasehold'], dtype=object)"
      ]
     },
     "execution_count": 31,
     "metadata": {},
     "output_type": "execute_result"
    }
   ],
   "source": [
    "dataset['Ownership'].unique()"
   ]
  },
  {
   "cell_type": "code",
   "execution_count": 32,
   "id": "002deb9d-8f9d-4c12-b778-e8eee4490572",
   "metadata": {},
   "outputs": [],
   "source": [
    "dataset['Furnishing'].fillna(dataset[\"Furnishing\"].mode()[0],inplace=True)\n",
    "dataset['facing'].fillna(dataset[\"facing\"].mode()[0],inplace=True)\n",
    "dataset['Bathroom'].fillna(dataset[\"Bathroom\"].mode()[0],inplace=True)\n",
    "dataset['Balcony'].fillna(0.0,inplace=True)\n",
    "dataset['Ownership'].fillna(dataset[\"Ownership\"].mode()[0],inplace=True)"
   ]
  },
  {
   "cell_type": "code",
   "execution_count": 33,
   "id": "0e78d773-ba01-4d9e-8bcd-35f2fa9d8ff7",
   "metadata": {},
   "outputs": [
    {
     "data": {
      "text/plain": [
       "Title                            0\n",
       "Price (in rupees)                0\n",
       "location                         0\n",
       "Floor                         7077\n",
       "Transaction                     83\n",
       "Furnishing                       0\n",
       "facing                           0\n",
       "overlooking                  81436\n",
       "Bathroom                         0\n",
       "Balcony                          0\n",
       "Car Parking                 103357\n",
       "Ownership                        0\n",
       "Amount(in rupees Lakhs )         0\n",
       "House Type                       0\n",
       "Area                             7\n",
       "dtype: int64"
      ]
     },
     "execution_count": 33,
     "metadata": {},
     "output_type": "execute_result"
    }
   ],
   "source": [
    "dataset.isnull().sum()"
   ]
  },
  {
   "cell_type": "code",
   "execution_count": 34,
   "id": "53b63a77-2caf-445a-a2a9-9628f562debb",
   "metadata": {
    "scrolled": true
   },
   "outputs": [],
   "source": [
    "dataset['Balcony'] = dataset['Balcony'].str.replace(\"> \",\"\")\n",
    "# dataset['Balcony'] = dataset['Balcony'].astype(\"float64\")\n",
    "# dataset['Balcony'] = dataset['Balcony'].astype(\"int64\")"
   ]
  },
  {
   "cell_type": "code",
   "execution_count": 37,
   "id": "983ae8ec-52e9-492e-9f1b-9a5f72da0dc8",
   "metadata": {},
   "outputs": [],
   "source": [
    "# dataset['Bathroom'] = dataset['Bathroom'].str.replace(\"> \",\"\")\n",
    "# dataset['Bathroom'] = dataset['Bathroom'].astype(\"float64\")\n",
    "dataset['Bathroom'] = dataset['Bathroom'].astype(\"int64\")"
   ]
  },
  {
   "cell_type": "code",
   "execution_count": 38,
   "id": "0050e142-d567-48ff-8106-c1f43f0b7c8b",
   "metadata": {},
   "outputs": [
    {
     "name": "stdout",
     "output_type": "stream",
     "text": [
      "<class 'pandas.core.frame.DataFrame'>\n",
      "Index: 187531 entries, 0 to 187530\n",
      "Data columns (total 15 columns):\n",
      " #   Column                    Non-Null Count   Dtype  \n",
      "---  ------                    --------------   -----  \n",
      " 0   Title                     187531 non-null  object \n",
      " 1   Price (in rupees)         187531 non-null  float64\n",
      " 2   location                  187531 non-null  object \n",
      " 3   Floor                     180454 non-null  object \n",
      " 4   Transaction               187448 non-null  object \n",
      " 5   Furnishing                187531 non-null  object \n",
      " 6   facing                    187531 non-null  object \n",
      " 7   overlooking               106095 non-null  object \n",
      " 8   Bathroom                  187531 non-null  int64  \n",
      " 9   Balcony                   138596 non-null  object \n",
      " 10  Car Parking               84174 non-null   object \n",
      " 11  Ownership                 187531 non-null  object \n",
      " 12  Amount(in rupees Lakhs )  187531 non-null  float64\n",
      " 13  House Type                187531 non-null  object \n",
      " 14  Area                      187524 non-null  float64\n",
      "dtypes: float64(3), int64(1), object(11)\n",
      "memory usage: 26.9+ MB\n"
     ]
    }
   ],
   "source": [
    "dataset.info()"
   ]
  },
  {
   "cell_type": "code",
   "execution_count": null,
   "id": "48dc2a7c-b431-46b0-bc43-86b8f3d746df",
   "metadata": {},
   "outputs": [],
   "source": []
  },
  {
   "cell_type": "code",
   "execution_count": 39,
   "id": "86a197a6-488b-410c-b730-5762e8e827a2",
   "metadata": {},
   "outputs": [
    {
     "data": {
      "text/plain": [
       "Title                            0\n",
       "Price (in rupees)                0\n",
       "location                         0\n",
       "Floor                         7077\n",
       "Transaction                     83\n",
       "Furnishing                       0\n",
       "facing                           0\n",
       "overlooking                  81436\n",
       "Bathroom                         0\n",
       "Balcony                      48935\n",
       "Car Parking                 103357\n",
       "Ownership                        0\n",
       "Amount(in rupees Lakhs )         0\n",
       "House Type                       0\n",
       "Area                             7\n",
       "dtype: int64"
      ]
     },
     "execution_count": 39,
     "metadata": {},
     "output_type": "execute_result"
    }
   ],
   "source": [
    "dataset.isnull().sum()"
   ]
  },
  {
   "cell_type": "code",
   "execution_count": 40,
   "id": "7e66c53a-012e-4fe5-abeb-8e83b7ad6cd9",
   "metadata": {},
   "outputs": [],
   "source": [
    "dataset.drop(columns=['Floor'],inplace=True)"
   ]
  },
  {
   "cell_type": "code",
   "execution_count": 41,
   "id": "4db6e817-79c5-4360-95f5-880c714dab6a",
   "metadata": {},
   "outputs": [],
   "source": [
    "dataset['Area'].fillna(dataset['Area'].mean(),inplace=True)"
   ]
  },
  {
   "cell_type": "code",
   "execution_count": 42,
   "id": "d176d55c-311b-45e5-8931-a52c236bde3e",
   "metadata": {},
   "outputs": [],
   "source": [
    "# Pool, Garden/Park, Main Road \n",
    "# Pool, Garden/Park\n",
    "# Garden/Park, Main Road \n",
    "# Pool, Main Road \n",
    "# Not Available"
   ]
  },
  {
   "cell_type": "code",
   "execution_count": 43,
   "id": "34c6f33a-15d9-4d32-8e43-5f7ab43241e3",
   "metadata": {},
   "outputs": [],
   "source": [
    "l = [\"Pool, Garden/Park, Main Road\",\"Main Road, Garden/Park, Pool\",\"Garden/Park, Pool, Main Road\",\"Garden/Park, Main Road, Pool\",\"Garden/Park, Pool, Main Road, Not Available\",\"Main Road, Pool, Garden/Park\", \"Pool, Main Road, Garden/Park\"]\n",
    "dataset['overlooking'].replace(l,\"Pool, Garden/Park, Main Road\",inplace=True)\n",
    "dataset['overlooking'] = dataset['overlooking'].str.replace(\", Not Available\",\"\")\n",
    "p = [\"Main Road, Garden/Park\",\"Garden/Park, Main Road\"]\n",
    "t = [\"Garden/Park, Pool\",\"Pool, Garden/Park\"]\n",
    "q = [\"Pool, Main Road\",\"Main Road, Pool\"]\n",
    "dataset['overlooking'].replace(p,\"Main Road, Garden/Park\",inplace=True)\n",
    "dataset['overlooking'].replace(t,\"Garden/Park, Pool\",inplace=True)\n",
    "dataset['overlooking'].replace(q,\"Pool, Main Road\",inplace=True)"
   ]
  },
  {
   "cell_type": "code",
   "execution_count": 44,
   "id": "f7fa56af-625c-4a35-b16a-6328b45d3729",
   "metadata": {},
   "outputs": [
    {
     "name": "stdout",
     "output_type": "stream",
     "text": [
      "nan\n",
      "Garden/Park\n",
      "Main Road, Garden/Park\n",
      "Main Road\n",
      "Pool, Garden/Park, Main Road\n",
      "Garden/Park, Pool\n",
      "Pool\n",
      "Pool, Main Road\n"
     ]
    }
   ],
   "source": [
    "for i in dataset['overlooking'].unique() :\n",
    "    print(i)"
   ]
  },
  {
   "cell_type": "code",
   "execution_count": 45,
   "id": "49df85fd-7d61-49e9-a3f8-a409b139ae9f",
   "metadata": {},
   "outputs": [],
   "source": [
    "dataset['overlooking'].fillna(dataset['overlooking'].mode()[0],inplace=True)"
   ]
  },
  {
   "cell_type": "code",
   "execution_count": 46,
   "id": "1718106c-1c6f-4032-a9d9-c1a8d9ceea8e",
   "metadata": {},
   "outputs": [],
   "source": [
    "dataset['Car Parking'] = dataset['Car Parking'].str.replace(\"Open\",\"Covered\")\n",
    "dataset['Car Parking'] = dataset['Car Parking'].str.replace(\"Covered,\",\"Covered\")\n",
    "dataset['Car Parking'].fillna(\"0\",inplace= True)"
   ]
  },
  {
   "cell_type": "code",
   "execution_count": 47,
   "id": "adec24bf-6313-47cc-b406-97681cb90362",
   "metadata": {},
   "outputs": [],
   "source": [
    "f = lambda data : int(data.split(\" \")[0])\n",
    "dataset['Car Parking'] = dataset['Car Parking'].apply(f)"
   ]
  },
  {
   "cell_type": "code",
   "execution_count": 48,
   "id": "4008c764-fc7d-49eb-b949-a94bafbd152a",
   "metadata": {},
   "outputs": [
    {
     "data": {
      "text/plain": [
       "array(['Resale', 'New Property', nan, 'Other', 'Rent/Lease'], dtype=object)"
      ]
     },
     "execution_count": 48,
     "metadata": {},
     "output_type": "execute_result"
    }
   ],
   "source": [
    "dataset['Transaction'].unique()"
   ]
  },
  {
   "cell_type": "code",
   "execution_count": 49,
   "id": "d954fc52-ba3a-4696-98e1-72baa5a9dbc3",
   "metadata": {},
   "outputs": [],
   "source": [
    "dataset.dropna(inplace=True)"
   ]
  },
  {
   "cell_type": "code",
   "execution_count": 50,
   "id": "e3df20d4-6723-40f3-bd57-8963c8ed7914",
   "metadata": {},
   "outputs": [
    {
     "data": {
      "text/plain": [
       "Title                       0\n",
       "Price (in rupees)           0\n",
       "location                    0\n",
       "Transaction                 0\n",
       "Furnishing                  0\n",
       "facing                      0\n",
       "overlooking                 0\n",
       "Bathroom                    0\n",
       "Balcony                     0\n",
       "Car Parking                 0\n",
       "Ownership                   0\n",
       "Amount(in rupees Lakhs )    0\n",
       "House Type                  0\n",
       "Area                        0\n",
       "dtype: int64"
      ]
     },
     "execution_count": 50,
     "metadata": {},
     "output_type": "execute_result"
    }
   ],
   "source": [
    "dataset.isnull().sum()"
   ]
  },
  {
   "cell_type": "code",
   "execution_count": 51,
   "id": "cbe0337a-dda9-4588-8857-0b2bbef49031",
   "metadata": {},
   "outputs": [],
   "source": [
    "dataset.to_csv(\"house_prices_clean_part_1.csv\",index=False)"
   ]
  },
  {
   "cell_type": "code",
   "execution_count": null,
   "id": "0d8ad58f-39e2-496f-820b-e99bf5a8b160",
   "metadata": {},
   "outputs": [],
   "source": []
  },
  {
   "cell_type": "code",
   "execution_count": null,
   "id": "a52ecf17-68d5-4fac-97bb-598f4369710c",
   "metadata": {},
   "outputs": [],
   "source": []
  },
  {
   "cell_type": "code",
   "execution_count": null,
   "id": "4f3adf8f-e331-4b93-bcc9-75b751c370f5",
   "metadata": {},
   "outputs": [],
   "source": []
  },
  {
   "cell_type": "code",
   "execution_count": null,
   "id": "a0264b4b-3bd2-44fa-a557-88d9dda2411f",
   "metadata": {},
   "outputs": [],
   "source": []
  }
 ],
 "metadata": {
  "kernelspec": {
   "display_name": "Python 3 (ipykernel)",
   "language": "python",
   "name": "python3"
  },
  "language_info": {
   "codemirror_mode": {
    "name": "ipython",
    "version": 3
   },
   "file_extension": ".py",
   "mimetype": "text/x-python",
   "name": "python",
   "nbconvert_exporter": "python",
   "pygments_lexer": "ipython3",
   "version": "3.13.1"
  }
 },
 "nbformat": 4,
 "nbformat_minor": 5
}
